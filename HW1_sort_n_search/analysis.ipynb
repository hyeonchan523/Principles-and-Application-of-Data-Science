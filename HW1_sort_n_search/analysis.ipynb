{
 "cells": [
  {
   "cell_type": "code",
   "execution_count": null,
   "source": [
    "import time\r\n",
    "from Sort_algorithms import *\r\n",
    "import numpy as np\r\n",
    "import matplotlib.pyplot as plt"
   ],
   "outputs": [],
   "metadata": {}
  },
  {
   "cell_type": "code",
   "execution_count": 8,
   "source": [
    "def cal_time(func, list_list):\r\n",
    "    result = []\r\n",
    "    for item in list_list:\r\n",
    "        params = {'L' : item,\r\n",
    "                  'd' : len(item)}\r\n",
    "        start = time.perf_counter()\r\n",
    "        func(**params)\r\n",
    "        end  = time.perf_counter()\r\n",
    "        result.append(end-start)\r\n",
    "    return result"
   ],
   "outputs": [],
   "metadata": {}
  },
  {
   "cell_type": "markdown",
   "source": [
    "## bubble sort\r\n"
   ],
   "metadata": {}
  },
  {
   "cell_type": "code",
   "execution_count": 39,
   "source": [
    "length = [1,10,100,1000,10000,100000]\r\n",
    "\r\n",
    "average_case = [np.random.randint(0,1000, i)for i in length]\r\n",
    "best_case = [sorted(item) for item in average_case]\r\n",
    "worst_case = [sorted(item,reverse = True) for item in average_case]\r\n",
    "\r\n",
    "best_time = cal_time(bubble_sort,best_case)\r\n",
    "average_time = cal_time(bubble_sort, average_case)\r\n",
    "worst_time = cal_time(bubble_sort, worst_case)\r\n",
    "\r\n",
    "plt.figure(figsize = (15,10))\r\n",
    "plt.title('Bubble sort', fontsize = 20)\r\n",
    "plt.plot(best_time, label = 'best_case')\r\n",
    "plt.plot(average_time, label = 'average_case')\r\n",
    "plt.plot(worst_time, label = 'worst_case')\r\n",
    "plt.xlabel('List size', fontsize = 15)\r\n",
    "plt.ylabel('Time (s)', fontsize = 15)\r\n",
    "plt.yticks(fontsize = 14)\r\n",
    "plt.xticks(np.arange(5),length, fontsize = 14)\r\n",
    "plt.legend(fontsize= 20)\r\n",
    "\r\n"
   ],
   "outputs": [
    {
     "output_type": "error",
     "ename": "KeyboardInterrupt",
     "evalue": "",
     "traceback": [
      "\u001b[1;31m---------------------------------------------------------------------------\u001b[0m",
      "\u001b[1;31mKeyboardInterrupt\u001b[0m                         Traceback (most recent call last)",
      "\u001b[1;32m<ipython-input-39-8a24914750fb>\u001b[0m in \u001b[0;36m<module>\u001b[1;34m\u001b[0m\n\u001b[0;32m      5\u001b[0m \u001b[0mworst_case\u001b[0m \u001b[1;33m=\u001b[0m \u001b[1;33m[\u001b[0m\u001b[0msorted\u001b[0m\u001b[1;33m(\u001b[0m\u001b[0mitem\u001b[0m\u001b[1;33m,\u001b[0m\u001b[0mreverse\u001b[0m \u001b[1;33m=\u001b[0m \u001b[1;32mTrue\u001b[0m\u001b[1;33m)\u001b[0m \u001b[1;32mfor\u001b[0m \u001b[0mitem\u001b[0m \u001b[1;32min\u001b[0m \u001b[0maverage_case\u001b[0m\u001b[1;33m]\u001b[0m\u001b[1;33m\u001b[0m\u001b[1;33m\u001b[0m\u001b[0m\n\u001b[0;32m      6\u001b[0m \u001b[1;33m\u001b[0m\u001b[0m\n\u001b[1;32m----> 7\u001b[1;33m \u001b[0mbest_time\u001b[0m \u001b[1;33m=\u001b[0m \u001b[0mcal_time\u001b[0m\u001b[1;33m(\u001b[0m\u001b[0mbubble_sort\u001b[0m\u001b[1;33m,\u001b[0m\u001b[0mbest_case\u001b[0m\u001b[1;33m)\u001b[0m\u001b[1;33m\u001b[0m\u001b[1;33m\u001b[0m\u001b[0m\n\u001b[0m\u001b[0;32m      8\u001b[0m \u001b[0maverage_time\u001b[0m \u001b[1;33m=\u001b[0m \u001b[0mcal_time\u001b[0m\u001b[1;33m(\u001b[0m\u001b[0mbubble_sort\u001b[0m\u001b[1;33m,\u001b[0m \u001b[0maverage_case\u001b[0m\u001b[1;33m)\u001b[0m\u001b[1;33m\u001b[0m\u001b[1;33m\u001b[0m\u001b[0m\n\u001b[0;32m      9\u001b[0m \u001b[0mworst_time\u001b[0m \u001b[1;33m=\u001b[0m \u001b[0mcal_time\u001b[0m\u001b[1;33m(\u001b[0m\u001b[0mbubble_sort\u001b[0m\u001b[1;33m,\u001b[0m \u001b[0mworst_case\u001b[0m\u001b[1;33m)\u001b[0m\u001b[1;33m\u001b[0m\u001b[1;33m\u001b[0m\u001b[0m\n",
      "\u001b[1;32m<ipython-input-8-37bb9d58df06>\u001b[0m in \u001b[0;36mcal_time\u001b[1;34m(func, list_list)\u001b[0m\n\u001b[0;32m      5\u001b[0m                   'd' : len(item)}\n\u001b[0;32m      6\u001b[0m         \u001b[0mstart\u001b[0m \u001b[1;33m=\u001b[0m \u001b[0mtime\u001b[0m\u001b[1;33m.\u001b[0m\u001b[0mperf_counter\u001b[0m\u001b[1;33m(\u001b[0m\u001b[1;33m)\u001b[0m\u001b[1;33m\u001b[0m\u001b[1;33m\u001b[0m\u001b[0m\n\u001b[1;32m----> 7\u001b[1;33m         \u001b[0mfunc\u001b[0m\u001b[1;33m(\u001b[0m\u001b[1;33m**\u001b[0m\u001b[0mparams\u001b[0m\u001b[1;33m)\u001b[0m\u001b[1;33m\u001b[0m\u001b[1;33m\u001b[0m\u001b[0m\n\u001b[0m\u001b[0;32m      8\u001b[0m         \u001b[0mend\u001b[0m  \u001b[1;33m=\u001b[0m \u001b[0mtime\u001b[0m\u001b[1;33m.\u001b[0m\u001b[0mperf_counter\u001b[0m\u001b[1;33m(\u001b[0m\u001b[1;33m)\u001b[0m\u001b[1;33m\u001b[0m\u001b[1;33m\u001b[0m\u001b[0m\n\u001b[0;32m      9\u001b[0m         \u001b[0mresult\u001b[0m\u001b[1;33m.\u001b[0m\u001b[0mappend\u001b[0m\u001b[1;33m(\u001b[0m\u001b[0mend\u001b[0m\u001b[1;33m-\u001b[0m\u001b[0mstart\u001b[0m\u001b[1;33m)\u001b[0m\u001b[1;33m\u001b[0m\u001b[1;33m\u001b[0m\u001b[0m\n",
      "\u001b[1;32mg:\\내 드라이브\\대학원\\coursework\\2021-2학기\\Principles and Application of Data Science\\HW1_sort_n_search\\Sort_algorithms.py\u001b[0m in \u001b[0;36mbubble_sort\u001b[1;34m(L, *args, **kwargs)\u001b[0m\n\u001b[0;32m     12\u001b[0m     \u001b[1;32mfor\u001b[0m \u001b[0mi\u001b[0m \u001b[1;32min\u001b[0m \u001b[0mrange\u001b[0m\u001b[1;33m(\u001b[0m\u001b[0mlength\u001b[0m\u001b[1;33m-\u001b[0m\u001b[1;36m1\u001b[0m\u001b[1;33m,\u001b[0m \u001b[1;33m-\u001b[0m\u001b[1;36m1\u001b[0m\u001b[1;33m,\u001b[0m \u001b[1;33m-\u001b[0m\u001b[1;36m1\u001b[0m\u001b[1;33m)\u001b[0m\u001b[1;33m:\u001b[0m\u001b[1;33m\u001b[0m\u001b[1;33m\u001b[0m\u001b[0m\n\u001b[0;32m     13\u001b[0m         \u001b[1;32mfor\u001b[0m \u001b[0mj\u001b[0m \u001b[1;32min\u001b[0m \u001b[0mrange\u001b[0m\u001b[1;33m(\u001b[0m\u001b[0mi\u001b[0m\u001b[1;33m)\u001b[0m\u001b[1;33m:\u001b[0m\u001b[1;33m\u001b[0m\u001b[1;33m\u001b[0m\u001b[0m\n\u001b[1;32m---> 14\u001b[1;33m             \u001b[1;32mif\u001b[0m \u001b[0mL\u001b[0m\u001b[1;33m[\u001b[0m\u001b[0mj\u001b[0m\u001b[1;33m]\u001b[0m \u001b[1;33m>\u001b[0m \u001b[0mL\u001b[0m\u001b[1;33m[\u001b[0m\u001b[0mj\u001b[0m\u001b[1;33m+\u001b[0m\u001b[1;36m1\u001b[0m\u001b[1;33m]\u001b[0m\u001b[1;33m:\u001b[0m\u001b[1;33m\u001b[0m\u001b[1;33m\u001b[0m\u001b[0m\n\u001b[0m\u001b[0;32m     15\u001b[0m                 \u001b[0mswap\u001b[0m\u001b[1;33m(\u001b[0m\u001b[0mj\u001b[0m\u001b[1;33m,\u001b[0m\u001b[0mj\u001b[0m\u001b[1;33m+\u001b[0m\u001b[1;36m1\u001b[0m\u001b[1;33m)\u001b[0m\u001b[1;33m\u001b[0m\u001b[1;33m\u001b[0m\u001b[0m\n\u001b[0;32m     16\u001b[0m         \u001b[1;31m#print(f'iter {length - i} : {L}')\u001b[0m\u001b[1;33m\u001b[0m\u001b[1;33m\u001b[0m\u001b[1;33m\u001b[0m\u001b[0m\n",
      "\u001b[1;31mKeyboardInterrupt\u001b[0m: "
     ]
    }
   ],
   "metadata": {}
  },
  {
   "cell_type": "code",
   "execution_count": null,
   "source": [
    "length = [1,10,100,1000,10000,100000]\r\n",
    "\r\n",
    "average_case = [np.random.randint(0,1000, i)for i in length]\r\n",
    "best_case = [sorted(item) for item in average_case]\r\n",
    "worst_case = [sorted(item,reverse = True) for item in average_case]\r\n",
    "\r\n",
    "best_time = cal_time(bubble_sort,best_case)\r\n",
    "average_time = cal_time(bubble_sort, average_case)\r\n",
    "worst_time = cal_time(bubble_sort, worst_case)\r\n",
    "\r\n",
    "plt.figure(figsize = (15,10))\r\n",
    "plt.title('Bubble sort', fontsize = 20)\r\n",
    "plt.plot(best_time, label = 'best_case')\r\n",
    "plt.plot(average_time, label = 'average_case')\r\n",
    "plt.plot(worst_time, label = 'worst_case')\r\n",
    "plt.xlabel('List size', fontsize = 15)\r\n",
    "plt.ylabel('Time (s)', fontsize = 15)\r\n",
    "plt.yticks(fontsize = 14)\r\n",
    "plt.xticks(np.arange(5),length, fontsize = 14)\r\n",
    "plt.legend(fontsize= 20)\r\n",
    "\r\n"
   ],
   "outputs": [],
   "metadata": {}
  },
  {
   "cell_type": "code",
   "execution_count": null,
   "source": [],
   "outputs": [],
   "metadata": {}
  }
 ],
 "metadata": {
  "orig_nbformat": 4,
  "language_info": {
   "name": "python",
   "version": "3.9.2",
   "mimetype": "text/x-python",
   "codemirror_mode": {
    "name": "ipython",
    "version": 3
   },
   "pygments_lexer": "ipython3",
   "nbconvert_exporter": "python",
   "file_extension": ".py"
  },
  "kernelspec": {
   "name": "python3",
   "display_name": "Python 3.9.2 64-bit ('coursework': conda)"
  },
  "interpreter": {
   "hash": "0e9f55456247eede0fbe7cda4892e1793322e1b6af34f1b4f6c5393d3f215843"
  }
 },
 "nbformat": 4,
 "nbformat_minor": 2
}